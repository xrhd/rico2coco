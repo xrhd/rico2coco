{
 "cells": [
  {
   "cell_type": "code",
   "execution_count": null,
   "id": "accepted-restoration",
   "metadata": {},
   "outputs": [],
   "source": [
    "a = 12"
   ]
  },
  {
   "cell_type": "code",
   "execution_count": null,
   "id": "chinese-corruption",
   "metadata": {},
   "outputs": [],
   "source": [
    "import torch\n",
    "from PIL import Image\n",
    "\n",
    "\n",
    "def copy_attr(a, b, include=(), exclude=()):\n",
    "    # Copy attributes from b to a, options to only include [...] and to exclude [...]\n",
    "    for k, v in b.__dict__.items():\n",
    "        if (len(include) and k not in include) or k.startswith('_') or k in exclude:\n",
    "            continue\n",
    "        else:\n",
    "            setattr(a, k, v)\n",
    "\n",
    "# my network so slow that I can't download your model above successfully :(\n",
    "# so I just use ultralytics's pretrained model here \n",
    "model = torch.hub.load('ultralytics/yolov5', 'yolov5s', pretrained=False, classes=80)\n",
    "checkpoint_ = torch.load('../yolov5-ultralytics/weights/yolov5s.pt')['model']\n",
    "model.load_state_dict(checkpoint_.state_dict())\n",
    "\n",
    "copy_attr(model, checkpoint_, include=('yaml', 'nc', 'hyp', 'names', 'stride'), exclude=())\n",
    "\n",
    "model = model.fuse().autoshape()"
   ]
  },
  {
   "cell_type": "code",
   "execution_count": null,
   "id": "preceding-yield",
   "metadata": {},
   "outputs": [],
   "source": []
  }
 ],
 "metadata": {
  "kernelspec": {
   "display_name": "Python 3",
   "language": "python",
   "name": "python3"
  }
 },
 "nbformat": 4,
 "nbformat_minor": 5
}
