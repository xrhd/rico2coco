{
 "cells": [
  {
   "cell_type": "markdown",
   "metadata": {},
   "source": [
    "# Generate dataset in yolov5 format from coco"
   ]
  },
  {
   "cell_type": "markdown",
   "metadata": {},
   "source": [
    "## deps"
   ]
  },
  {
   "cell_type": "code",
   "execution_count": 1,
   "metadata": {
    "collapsed": true
   },
   "outputs": [],
   "source": [
    "import os\n",
    "import os.path\n",
    "import yaml\n",
    "from shutil import copyfile\n",
    "\n",
    "from pycocotools.coco import COCO\n",
    "from tqdm import tqdm\n",
    "\n",
    "import pandas as pd"
   ]
  },
  {
   "cell_type": "markdown",
   "metadata": {},
   "source": [
    "## config"
   ]
  },
  {
   "cell_type": "code",
   "execution_count": 2,
   "metadata": {
    "collapsed": true
   },
   "outputs": [],
   "source": [
    "USE_SYMLINK = True\n",
    "IMAGES_PATH = os.path.abspath(\"../rico2coco/rico/dataset/combined/\")\n",
    "SPLIT_PATH = os.path.abspath(\"../rico2coco/notebooks/train-val-test-split/\")"
   ]
  },
  {
   "cell_type": "code",
   "execution_count": 3,
   "metadata": {},
   "outputs": [
    {
     "name": "stdout",
     "output_type": "stream",
     "text": [
      "66261\r\n"
     ]
    }
   ],
   "source": [
    "ls \"{IMAGES_PATH}\" | grep \".jpg\" | wc -l"
   ]
  },
  {
   "cell_type": "markdown",
   "metadata": {},
   "source": [
    "## aux functions"
   ]
  },
  {
   "cell_type": "code",
   "execution_count": 4,
   "metadata": {
    "collapsed": true
   },
   "outputs": [],
   "source": [
    "# Truncates numbers to N decimals\n",
    "def truncate(n, decimals=0):\n",
    "    multiplier = 10 ** decimals\n",
    "    return int(n * multiplier) / multiplier\n",
    "\n",
    "\n",
    "def get_coco_info(coco_annotations, image_path):\n",
    "    coco = COCO(coco_annotations)\n",
    "    cats = coco.loadCats(coco.getCatIds())\n",
    "    nms = [cat[\"name\"] for cat in cats]\n",
    "    print(\"COCO categories: \\n{}\\n\".format(\" \".join(nms)))\n",
    "\n",
    "    catIds = coco.getCatIds()\n",
    "    imgIds = coco.getImgIds()\n",
    "    # imgIds = coco.getImgIds(catIds=catIds)\n",
    "    imageInfos = coco.loadImgs(imgIds)\n",
    "\n",
    "    return coco, catIds, imgIds, imageInfos\n",
    "\n",
    "\n",
    "def save_images(src_path, dst_path, imageInfos):\n",
    "    os.makedirs(dst_path, exist_ok=True)\n",
    "\n",
    "    for image in tqdm(imageInfos):\n",
    "        file_name = image[\"file_name\"]\n",
    "        src = f\"{src_path}/{file_name}\"\n",
    "        dst = f\"{dst_path}/{file_name}\"\n",
    "\n",
    "        if not os.path.exists(src):\n",
    "            raise Exception(f\"do not exits: {src}\")\n",
    "        else:\n",
    "            copyfile(src, dst)\n",
    "\n",
    "    \n",
    "def save_annotations(dst_path, coco, catIds, imgIds, imageInfos):\n",
    "    \"\"\"This is where the annotations will be saved in YOLO format\"\"\"\n",
    "    os.makedirs(dst_path, exist_ok=True)\n",
    "    \n",
    "\n",
    "    for im in tqdm(imageInfos):\n",
    "        dw = 1.0 / im[\"width\"]\n",
    "        dh = 1.0 / im[\"height\"]\n",
    "\n",
    "        annIds = coco.getAnnIds(imgIds=im[\"id\"], catIds=catIds, iscrowd=None)\n",
    "        anns = coco.loadAnns(annIds)\n",
    "\n",
    "        txt_content = []\n",
    "        for ann in anns:\n",
    "            category_id = ann[\"category_id\"] - 1\n",
    "\n",
    "            xmin = ann[\"bbox\"][0]\n",
    "            ymin = ann[\"bbox\"][1]\n",
    "            xmax = ann[\"bbox\"][2] + ann[\"bbox\"][0]\n",
    "            ymax = ann[\"bbox\"][3] + ann[\"bbox\"][1]\n",
    "\n",
    "            x = (xmin + xmax) / 2\n",
    "            y = (ymin + ymax) / 2\n",
    "\n",
    "            w = xmax - xmin\n",
    "            h = ymax - ymin\n",
    "\n",
    "            x = x * dw\n",
    "            w = w * dw\n",
    "            y = y * dh\n",
    "            h = h * dh\n",
    "\n",
    "            txt_content.append(\n",
    "                \" \".join([\n",
    "                    f\"{category_id} \",\n",
    "                    str(truncate(x, 7)),\n",
    "                    str(truncate(y, 7)),\n",
    "                    str(truncate(w, 7)),\n",
    "                    str(truncate(h, 7))\n",
    "                ])\n",
    "            )\n",
    "            \n",
    "        \n",
    "        file_name = im[\"file_name\"].replace(\".jpg\", \".txt\")\n",
    "        with open(f\"{dst_path}/{file_name}\", \"w\") as myfile:\n",
    "            for line in txt_content:\n",
    "                myfile.write(line+\"\\n\")"
   ]
  },
  {
   "cell_type": "code",
   "execution_count": 5,
   "metadata": {
    "collapsed": true
   },
   "outputs": [],
   "source": [
    "def load_split_ids(src_path):\n",
    "    train_ids =  pd.read_csv(f\"{src_path}/train.csv\")[\"UI Number\"].values.tolist()\n",
    "    val_ids =  pd.read_csv(f\"{src_path}/val.csv\")[\"UI Number\"].values.tolist()\n",
    "    test_ids =  pd.read_csv(f\"{src_path}/test.csv\")[\"UI Number\"].values.tolist()\n",
    "    return train_ids, val_ids, test_ids"
   ]
  },
  {
   "cell_type": "code",
   "execution_count": 6,
   "metadata": {
    "collapsed": true
   },
   "outputs": [],
   "source": [
    "train_ids, val_ids, test_ids = load_split_ids(SPLIT_PATH)"
   ]
  },
  {
   "cell_type": "code",
   "execution_count": 7,
   "metadata": {},
   "outputs": [
    {
     "data": {
      "text/plain": [
       "19678"
      ]
     },
     "execution_count": 7,
     "metadata": {},
     "output_type": "execute_result"
    }
   ],
   "source": [
    "len(train_ids)"
   ]
  },
  {
   "cell_type": "markdown",
   "metadata": {},
   "source": [
    "## run"
   ]
  },
  {
   "cell_type": "code",
   "execution_count": 8,
   "metadata": {},
   "outputs": [],
   "source": [
    "def coco2yolo_with_data_split(\n",
    "        yaml_path,\n",
    "        dst_path,\n",
    "        coco_annotations, \n",
    "        image_path,\n",
    "        split_path,\n",
    "    ):\n",
    "\n",
    "    coco, catIds, imgIds, imageInfos = get_coco_info(\n",
    "        coco_annotations, image_path\n",
    "    )\n",
    "\n",
    "    train_ids, val_ids, test_ids = load_split_ids(split_path)\n",
    "\n",
    "    split_dict = {\n",
    "        \"train\": set(train_ids), \n",
    "        \"val\": set(val_ids), \n",
    "        \"test\": set(test_ids)\n",
    "    }\n",
    "    \n",
    "    data_yaml = dict(\n",
    "        path = dst_path,\n",
    "        nc = len(catIds),\n",
    "        names = list(map(lambda cat: cat[\"name\"], coco.loadCats(catIds)))\n",
    "    )\n",
    "\n",
    "    instances_per_split = {}\n",
    "    for key_name, split_ids in split_dict.items():\n",
    "        print(f\"creating {key_name} dataset...\")\n",
    "\n",
    "        filtered_image_ids = list(\n",
    "            filter(lambda im_id: im_id in split_ids, imgIds)\n",
    "        )\n",
    "        filtered_image_infos = list(\n",
    "            filter(lambda im: im[\"id\"] in split_ids, imageInfos)\n",
    "        )\n",
    "\n",
    "        save_images(\n",
    "            image_path, \n",
    "            f\"{dst_path}/images/{key_name}/\", \n",
    "            filtered_image_infos\n",
    "        )\n",
    "        save_annotations(\n",
    "            f\"{dst_path}/labels/{key_name}/\", \n",
    "            coco, catIds, filtered_image_ids, filtered_image_infos\n",
    "        )\n",
    "        \n",
    "        data_yaml[key_name] = f\"images/{key_name}/\"\n",
    "        \n",
    "        instances_per_split[key_name] = filtered_image_ids\n",
    "        \n",
    "    with open(yaml_path, 'w') as outfile:\n",
    "        yaml.dump(data_yaml, outfile, default_flow_style=True)\n",
    "        \n",
    "    return instances_per_split"
   ]
  },
  {
   "cell_type": "code",
   "execution_count": 9,
   "metadata": {},
   "outputs": [
    {
     "name": "stdout",
     "output_type": "stream",
     "text": [
      "README.md  ricoco.json\tricoco_clickable.json  ricoco_icon_legend.json\r\n"
     ]
    }
   ],
   "source": [
    "!ls ../dataset/"
   ]
  },
  {
   "cell_type": "code",
   "execution_count": 10,
   "metadata": {},
   "outputs": [
    {
     "name": "stdout",
     "output_type": "stream",
     "text": [
      "working on new_dataset/rico2coco_clickable/ ...\n",
      "loading annotations into memory...\n",
      "Done (t=1.33s)\n",
      "creating index...\n",
      "index created!\n",
      "COCO categories: \n",
      "clickable not_clickable\n",
      "\n",
      "creating train dataset...\n"
     ]
    },
    {
     "name": "stderr",
     "output_type": "stream",
     "text": [
      "100%|██████████| 6734/6734 [00:02<00:00, 2824.78it/s]\n",
      "100%|██████████| 6734/6734 [00:00<00:00, 7925.14it/s]\n"
     ]
    },
    {
     "name": "stdout",
     "output_type": "stream",
     "text": [
      "creating val dataset...\n"
     ]
    },
    {
     "name": "stderr",
     "output_type": "stream",
     "text": [
      "100%|██████████| 853/853 [00:00<00:00, 3813.61it/s]\n",
      "100%|██████████| 853/853 [00:00<00:00, 6622.11it/s]\n"
     ]
    },
    {
     "name": "stdout",
     "output_type": "stream",
     "text": [
      "creating test dataset...\n"
     ]
    },
    {
     "name": "stderr",
     "output_type": "stream",
     "text": [
      "100%|██████████| 790/790 [00:00<00:00, 5186.68it/s]\n",
      "100%|██████████| 790/790 [00:00<00:00, 8003.53it/s]\n"
     ]
    },
    {
     "name": "stdout",
     "output_type": "stream",
     "text": [
      "train 0.8038677330786678\n",
      "val 0.1018264295093709\n",
      "test 0.09430583741196132\n",
      "\n",
      "\n",
      "working on new_dataset/ricoco_icon_legend/ ...\n",
      "loading annotations into memory...\n",
      "Done (t=0.12s)\n",
      "creating index...\n",
      "index created!\n",
      "COCO categories: \n",
      "shop expand_less help photo switcher attach_file follow font layers pause group menu flash send add swap folder save expand_more date_range facebook av_rewind gift settings edit skip_next list refresh avatar dialpad globe bluetooth close fullscreen thumbs_up label reply email power undo explore cart videocam search launch arrow_backward favorite filter delete navigation file_download weather network_wifi redo emoji playlist bookmark music call twitter location flight visibility volume notifications av_forward location_crosshair copy info skip_previous arrow_downward dashboard more minus history compare lock national_flag share warning chat home arrow_forward check microphone sliders book build play repeat star description wallpaper arrow_upward filter_list thumbs_down time\n",
      "\n",
      "creating train dataset...\n"
     ]
    },
    {
     "name": "stderr",
     "output_type": "stream",
     "text": [
      "100%|██████████| 6734/6734 [00:01<00:00, 3731.24it/s]\n",
      "100%|██████████| 6734/6734 [00:00<00:00, 16981.98it/s]\n"
     ]
    },
    {
     "name": "stdout",
     "output_type": "stream",
     "text": [
      "creating val dataset...\n"
     ]
    },
    {
     "name": "stderr",
     "output_type": "stream",
     "text": [
      "100%|██████████| 853/853 [00:00<00:00, 5404.27it/s]\n",
      "100%|██████████| 853/853 [00:00<00:00, 18363.21it/s]\n"
     ]
    },
    {
     "name": "stdout",
     "output_type": "stream",
     "text": [
      "creating test dataset...\n"
     ]
    },
    {
     "name": "stderr",
     "output_type": "stream",
     "text": [
      "100%|██████████| 790/790 [00:00<00:00, 4858.26it/s]\n",
      "100%|██████████| 790/790 [00:00<00:00, 15729.06it/s]\n"
     ]
    },
    {
     "name": "stdout",
     "output_type": "stream",
     "text": [
      "train 0.8038677330786678\n",
      "val 0.1018264295093709\n",
      "test 0.09430583741196132\n",
      "\n",
      "\n",
      "working on new_dataset/ricoco/ ...\n",
      "loading annotations into memory...\n",
      "Done (t=0.99s)\n",
      "creating index...\n",
      "index created!\n",
      "COCO categories: \n",
      "Web View List Item Multi-Tab Input Text Button Slider Background Image Advertisement Card Bottom Navigation Modal On/Off Switch Button Bar Number Stepper Text Map View Checkbox Date Picker Image Drawer Radio Button Video Toolbar Pager Indicator\n",
      "\n",
      "creating train dataset...\n"
     ]
    },
    {
     "name": "stderr",
     "output_type": "stream",
     "text": [
      "100%|██████████| 6734/6734 [00:01<00:00, 3768.11it/s]\n",
      "100%|██████████| 6734/6734 [00:00<00:00, 8457.54it/s]\n"
     ]
    },
    {
     "name": "stdout",
     "output_type": "stream",
     "text": [
      "creating val dataset...\n"
     ]
    },
    {
     "name": "stderr",
     "output_type": "stream",
     "text": [
      "100%|██████████| 853/853 [00:00<00:00, 5262.96it/s]\n",
      "100%|██████████| 853/853 [00:00<00:00, 9150.16it/s]\n"
     ]
    },
    {
     "name": "stdout",
     "output_type": "stream",
     "text": [
      "creating test dataset...\n"
     ]
    },
    {
     "name": "stderr",
     "output_type": "stream",
     "text": [
      "100%|██████████| 790/790 [00:00<00:00, 4872.63it/s]\n",
      "100%|██████████| 790/790 [00:00<00:00, 9039.87it/s]\n"
     ]
    },
    {
     "name": "stdout",
     "output_type": "stream",
     "text": [
      "train 0.8038677330786678\n",
      "val 0.1018264295093709\n",
      "test 0.09430583741196132\n",
      "\n",
      "\n"
     ]
    }
   ],
   "source": [
    "dst_paths = [\n",
    "    (\"data/rico2coco_clickable.yaml\", \"new_dataset/rico2coco_clickable/\", \"../dataset/ricoco_clickable.json\"),\n",
    "    (\"data/ricoco_icon_legend.yaml\", \"new_dataset/ricoco_icon_legend/\", \"../dataset/ricoco_icon_legend.json\"),\n",
    "    (\"data/ricoco.yaml\", \"new_dataset/ricoco/\", \"../dataset/ricoco.json\"),\n",
    "]\n",
    "\n",
    "for yaml_path, dst_path, ann_path in dst_paths:\n",
    "    \n",
    "    print(f\"working on {dst_path} ...\")\n",
    "        \n",
    "    instances_per_split = coco2yolo_with_data_split(\n",
    "        yaml_path, dst_path, ann_path, IMAGES_PATH, SPLIT_PATH\n",
    "    )\n",
    "\n",
    "    \n",
    "    total_instances = sum(map(len, instances_per_split.values()))\n",
    "    for key in instances_per_split:\n",
    "        print(key, len(instances_per_split[key])/total_instances)\n",
    "    print(\"\\n\")"
   ]
  },
  {
   "cell_type": "code",
   "execution_count": 11,
   "metadata": {},
   "outputs": [
    {
     "name": "stdout",
     "output_type": "stream",
     "text": [
      "10185.txt\r\n",
      "10188.txt\r\n",
      "10199.txt\r\n",
      "10206.txt\r\n",
      "10209.txt\r\n",
      "10210.txt\r\n",
      "10213.txt\r\n",
      "10367.txt\r\n",
      "10369.txt\r\n",
      "10378.txt\r\n",
      "ls: write error\r\n"
     ]
    }
   ],
   "source": [
    "ls new_dataset/ricoco/labels/test/ | head"
   ]
  },
  {
   "cell_type": "code",
   "execution_count": 12,
   "metadata": {},
   "outputs": [
    {
     "name": "stdout",
     "output_type": "stream",
     "text": [
      "14  0.3277777 0.0708984 0.3638888 0.0363281\r\n",
      "20  0.5 0.1708984 1.0 0.0683593\r\n",
      "20  0.5 0.2666015 1.0 0.0683593\r\n"
     ]
    }
   ],
   "source": [
    "cat new_dataset/ricoco/labels/test/16129.txt"
   ]
  },
  {
   "cell_type": "code",
   "execution_count": 13,
   "metadata": {},
   "outputs": [
    {
     "name": "stdout",
     "output_type": "stream",
     "text": [
      "{names: [clickable, not_clickable], nc: 2, path: new_dataset/rico2coco_clickable/,\r\n",
      "  test: images/test/, train: images/train/, val: images/val/}\r\n"
     ]
    }
   ],
   "source": [
    "cat data/rico2coco_clickable.yaml"
   ]
  },
  {
   "cell_type": "code",
   "execution_count": null,
   "metadata": {
    "collapsed": true
   },
   "outputs": [],
   "source": []
  }
 ],
 "metadata": {
  "kernelspec": {
   "display_name": "Python 3",
   "language": "python",
   "name": "python3"
  },
  "language_info": {
   "codemirror_mode": {
    "name": "ipython",
    "version": 3
   },
   "file_extension": ".py",
   "mimetype": "text/x-python",
   "name": "python",
   "nbconvert_exporter": "python",
   "pygments_lexer": "ipython3",
   "version": "3.6.3"
  }
 },
 "nbformat": 4,
 "nbformat_minor": 2
}
