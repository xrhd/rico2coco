{
 "cells": [
  {
   "cell_type": "markdown",
   "metadata": {},
   "source": [
    "# Generate dataset in yolov5 format from coco"
   ]
  },
  {
   "cell_type": "markdown",
   "metadata": {},
   "source": [
    "## deps"
   ]
  },
  {
   "cell_type": "code",
   "execution_count": 1,
   "metadata": {
    "collapsed": true
   },
   "outputs": [],
   "source": [
    "import os\n",
    "import os.path\n",
    "from shutil import copyfile\n",
    "\n",
    "from pycocotools.coco import COCO\n",
    "from tqdm import tqdm\n",
    "\n",
    "import pandas as pd"
   ]
  },
  {
   "cell_type": "markdown",
   "metadata": {},
   "source": [
    "## config"
   ]
  },
  {
   "cell_type": "code",
   "execution_count": 2,
   "metadata": {
    "collapsed": true
   },
   "outputs": [],
   "source": [
    "USE_SYMLINK = True\n",
    "IMAGES_PATH = os.path.abspath(\"../rico2coco/rico/dataset/combined/\")\n",
    "SPLIT_PATH = os.path.abspath(\"../rico2coco/notebooks/train-val-test-split/\")"
   ]
  },
  {
   "cell_type": "code",
   "execution_count": 3,
   "metadata": {},
   "outputs": [
    {
     "name": "stdout",
     "output_type": "stream",
     "text": [
      "66261\r\n"
     ]
    }
   ],
   "source": [
    "ls \"{IMAGES_PATH}\" | grep \".jpg\" | wc -l"
   ]
  },
  {
   "cell_type": "markdown",
   "metadata": {},
   "source": [
    "## aux functions"
   ]
  },
  {
   "cell_type": "code",
   "execution_count": 4,
   "metadata": {},
   "outputs": [],
   "source": [
    "# Truncates numbers to N decimals\n",
    "def truncate(n, decimals=0):\n",
    "    multiplier = 10 ** decimals\n",
    "    return int(n * multiplier) / multiplier\n",
    "\n",
    "\n",
    "def get_coco_info(coco_annotations, image_path):\n",
    "    coco = COCO(coco_annotations)\n",
    "    cats = coco.loadCats(coco.getCatIds())\n",
    "    nms = [cat[\"name\"] for cat in cats]\n",
    "    print(\"COCO categories: \\n{}\\n\".format(\" \".join(nms)))\n",
    "\n",
    "    catIds = coco.getCatIds()\n",
    "    imgIds = coco.getImgIds(catIds=catIds)\n",
    "    imageInfos = coco.loadImgs(imgIds)\n",
    "    \n",
    "    return coco, catIds, imgIds, imageInfos\n",
    "\n",
    "\n",
    "def save_images(src_path, dst_path, imageInfos):\n",
    "    os.makedirs(dst_path, exist_ok=True)\n",
    "\n",
    "    for image in tqdm(imageInfos):\n",
    "        file_name = image[\"file_name\"]\n",
    "        src = f\"{src_path}/{file_name}\"\n",
    "        dst = f\"{dst_path}/{file_name}\"\n",
    "\n",
    "        if not os.path.exists(src):\n",
    "            raise Exception(f\"do not exits: {src}\")\n",
    "        else:\n",
    "            copyfile(src, dst)\n",
    "\n",
    "    \n",
    "def save_annotations(dst_path, coco, catIds, imgIds, imageInfos):\n",
    "    \"\"\"This is where the annotations will be saved in YOLO format\"\"\"\n",
    "    os.makedirs(dst_path, exist_ok=True)\n",
    "    \n",
    "\n",
    "    for im in tqdm(imageInfos):\n",
    "        dw = 1.0 / im[\"width\"]\n",
    "        dh = 1.0 / im[\"height\"]\n",
    "\n",
    "        annIds = coco.getAnnIds(imgIds=im[\"id\"], catIds=catIds, iscrowd=None)\n",
    "        anns = coco.loadAnns(annIds)\n",
    "\n",
    "        txt_content = []\n",
    "        for ann in anns:\n",
    "            category_id = ann[\"category_id\"] - 1\n",
    "\n",
    "            xmin = ann[\"bbox\"][0]\n",
    "            ymin = ann[\"bbox\"][1]\n",
    "            xmax = ann[\"bbox\"][2] + ann[\"bbox\"][0]\n",
    "            ymax = ann[\"bbox\"][3] + ann[\"bbox\"][1]\n",
    "\n",
    "            x = (xmin + xmax) / 2\n",
    "            y = (ymin + ymax) / 2\n",
    "\n",
    "            w = xmax - xmin\n",
    "            h = ymax - ymin\n",
    "\n",
    "            x = x * dw\n",
    "            w = w * dw\n",
    "            y = y * dh\n",
    "            h = h * dh\n",
    "\n",
    "            txt_content.append(\n",
    "                \" \".join([\n",
    "                    f\"{category_id} \",\n",
    "                    str(truncate(x, 7)),\n",
    "                    str(truncate(y, 7)),\n",
    "                    str(truncate(w, 7)),\n",
    "                    str(truncate(h, 7))\n",
    "                ])\n",
    "            )\n",
    "            \n",
    "        \n",
    "        file_name = im[\"file_name\"].replace(\".jpg\", \".txt\")\n",
    "        with open(f\"{dst_path}/{file_name}\", \"w\") as myfile:\n",
    "            for line in txt_content:\n",
    "                myfile.write(line+\"\\n\")"
   ]
  },
  {
   "cell_type": "code",
   "execution_count": 5,
   "metadata": {
    "collapsed": true
   },
   "outputs": [],
   "source": [
    "def load_split_ids(src_path):\n",
    "    train_ids =  pd.read_csv(f\"{src_path}/train.csv\")[\"UI Number\"].values.tolist()\n",
    "    val_ids =  pd.read_csv(f\"{src_path}/val.csv\")[\"UI Number\"].values.tolist()\n",
    "    test_ids =  pd.read_csv(f\"{src_path}/test.csv\")[\"UI Number\"].values.tolist()\n",
    "    return train_ids, val_ids, test_ids"
   ]
  },
  {
   "cell_type": "code",
   "execution_count": 6,
   "metadata": {},
   "outputs": [],
   "source": [
    "train_ids, val_ids, test_ids = load_split_ids(SPLIT_PATH)"
   ]
  },
  {
   "cell_type": "code",
   "execution_count": 7,
   "metadata": {},
   "outputs": [
    {
     "data": {
      "text/plain": [
       "19678"
      ]
     },
     "execution_count": 7,
     "metadata": {},
     "output_type": "execute_result"
    }
   ],
   "source": [
    "len(train_ids)"
   ]
  },
  {
   "cell_type": "markdown",
   "metadata": {},
   "source": [
    "## run"
   ]
  },
  {
   "cell_type": "code",
   "execution_count": 8,
   "metadata": {
    "collapsed": true
   },
   "outputs": [],
   "source": [
    "def coco2yolo_with_data_split(\n",
    "        dst_path,\n",
    "        coco_annotations, \n",
    "        image_path,\n",
    "        split_path,\n",
    "    ):\n",
    "\n",
    "    coco, catIds, imgIds, imageInfos = get_coco_info(\n",
    "        coco_annotations, image_path\n",
    "    )\n",
    "\n",
    "    train_ids, val_ids, test_ids = load_split_ids(split_path)\n",
    "\n",
    "    split_dict = {\n",
    "        \"train\": set(train_ids), \n",
    "        \"val\": set(val_ids), \n",
    "        \"test\": set(test_ids)\n",
    "    }\n",
    "\n",
    "    instances_per_split = {}\n",
    "    for key_name, split_ids in split_dict.items():\n",
    "        print(f\"creating {key_name} dataset...\")\n",
    "\n",
    "        filtered_image_ids = list(\n",
    "            filter(lambda im_id: im_id in split_ids, imgIds)\n",
    "        )\n",
    "        filtered_image_infos = list(\n",
    "            filter(lambda im: im[\"id\"] in split_ids, imageInfos)\n",
    "        )\n",
    "\n",
    "        save_images(\n",
    "            image_path, \n",
    "            f\"{dst_path}/images/{key_name}/\", \n",
    "            filtered_image_infos\n",
    "        )\n",
    "        save_annotations(\n",
    "            f\"{dst_path}/labels/{key_name}/\", \n",
    "            coco, catIds, filtered_image_ids, filtered_image_infos\n",
    "        )\n",
    "        \n",
    "        instances_per_split[key_name] = filtered_image_ids\n",
    "        \n",
    "    return instances_per_split"
   ]
  },
  {
   "cell_type": "code",
   "execution_count": 9,
   "metadata": {},
   "outputs": [
    {
     "name": "stdout",
     "output_type": "stream",
     "text": [
      "README.md  ricoco.json\tricoco_clickable.json  ricoco_icon_legend.json\r\n"
     ]
    }
   ],
   "source": [
    "!ls ../dataset/"
   ]
  },
  {
   "cell_type": "code",
   "execution_count": 10,
   "metadata": {},
   "outputs": [
    {
     "name": "stdout",
     "output_type": "stream",
     "text": [
      "loading annotations into memory...\n",
      "Done (t=1.31s)\n",
      "creating index...\n",
      "index created!\n",
      "COCO categories: \n",
      "clickable not_clickable\n",
      "\n",
      "creating train dataset...\n"
     ]
    },
    {
     "name": "stderr",
     "output_type": "stream",
     "text": [
      "100%|██████████| 6207/6207 [00:01<00:00, 3841.59it/s]\n",
      "100%|██████████| 6207/6207 [00:00<00:00, 7994.47it/s]\n"
     ]
    },
    {
     "name": "stdout",
     "output_type": "stream",
     "text": [
      "creating val dataset...\n"
     ]
    },
    {
     "name": "stderr",
     "output_type": "stream",
     "text": [
      "100%|██████████| 782/782 [00:00<00:00, 5515.89it/s]\n",
      "100%|██████████| 782/782 [00:00<00:00, 7977.24it/s]\n"
     ]
    },
    {
     "name": "stdout",
     "output_type": "stream",
     "text": [
      "creating test dataset...\n"
     ]
    },
    {
     "name": "stderr",
     "output_type": "stream",
     "text": [
      "100%|██████████| 746/746 [00:00<00:00, 5589.65it/s]\n",
      "100%|██████████| 746/746 [00:00<00:00, 8113.80it/s]"
     ]
    },
    {
     "name": "stdout",
     "output_type": "stream",
     "text": [
      "new_dataset/rico2coco_clickable/\n",
      "train 0.8024563671622496\n",
      "val 0.1010989010989011\n",
      "test 0.09644473173884939\n",
      "\n"
     ]
    },
    {
     "name": "stderr",
     "output_type": "stream",
     "text": [
      "\n"
     ]
    }
   ],
   "source": [
    "dst_paths = [\n",
    "    (\"new_dataset/rico2coco_clickable/\", \"../dataset/ricoco_clickable.json\"),\n",
    "#     (\"new_dataset/ricoco_icon_legend/\", \"../dataset/ricoco_icon_legend.json\"),\n",
    "#     (\"new_dataset/ricoco/\", \"../dataset/ricoco.json\"),\n",
    "]\n",
    "\n",
    "for dst_path, ann_path in dst_paths:\n",
    "\n",
    "    instances_per_split = coco2yolo_with_data_split(\n",
    "        dst_path, ann_path, IMAGES_PATH, SPLIT_PATH\n",
    "    )\n",
    "\n",
    "    print(dst_path)\n",
    "    total_instances = sum(map(len, instances_per_split.values()))\n",
    "    for key in instances_per_split:\n",
    "        print(key, len(instances_per_split[key])/total_instances)\n",
    "    print()"
   ]
  },
  {
   "cell_type": "code",
   "execution_count": 11,
   "metadata": {},
   "outputs": [],
   "source": [
    "ls new_dataset/ricoco/images/test/"
   ]
  }
 ],
 "metadata": {
  "kernelspec": {
   "display_name": "Python 3",
   "language": "python",
   "name": "python3"
  },
  "language_info": {
   "codemirror_mode": {
    "name": "ipython",
    "version": 3
   },
   "file_extension": ".py",
   "mimetype": "text/x-python",
   "name": "python",
   "nbconvert_exporter": "python",
   "pygments_lexer": "ipython3",
   "version": "3.6.3"
  }
 },
 "nbformat": 4,
 "nbformat_minor": 2
}
