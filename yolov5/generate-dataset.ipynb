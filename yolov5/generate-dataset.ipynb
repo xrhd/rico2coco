{
 "cells": [
  {
   "cell_type": "markdown",
   "metadata": {},
   "source": [
    "# Generate dataset in yolov5 format from coco"
   ]
  },
  {
   "cell_type": "markdown",
   "metadata": {},
   "source": [
    "## deps"
   ]
  },
  {
   "cell_type": "code",
   "execution_count": 1,
   "metadata": {
    "collapsed": true
   },
   "outputs": [],
   "source": [
    "import os\n",
    "import os.path\n",
    "from shutil import copyfile\n",
    "\n",
    "from pycocotools.coco import COCO\n",
    "from tqdm import tqdm\n",
    "\n",
    "import pandas as pd"
   ]
  },
  {
   "cell_type": "markdown",
   "metadata": {},
   "source": [
    "## config"
   ]
  },
  {
   "cell_type": "code",
   "execution_count": 2,
   "metadata": {
    "collapsed": true
   },
   "outputs": [],
   "source": [
    "USE_SYMLINK = True\n",
    "IMAGES_PATH = os.path.abspath(\"../rico2coco/rico/dataset/combined/\")\n",
    "SPLIT_PATH = os.path.abspath(\"../rico2coco/notebooks/train-val-test-split/\")"
   ]
  },
  {
   "cell_type": "code",
   "execution_count": 3,
   "metadata": {},
   "outputs": [
    {
     "name": "stdout",
     "output_type": "stream",
     "text": [
      "66261\r\n"
     ]
    }
   ],
   "source": [
    "ls \"{IMAGES_PATH}\" | grep \".jpg\" | wc -l"
   ]
  },
  {
   "cell_type": "markdown",
   "metadata": {},
   "source": [
    "## aux functions"
   ]
  },
  {
   "cell_type": "code",
   "execution_count": 4,
   "metadata": {},
   "outputs": [],
   "source": [
    "# Truncates numbers to N decimals\n",
    "def truncate(n, decimals=0):\n",
    "    multiplier = 10 ** decimals\n",
    "    return int(n * multiplier) / multiplier\n",
    "\n",
    "\n",
    "def get_coco_info(coco_annotations, image_path):\n",
    "    coco = COCO(coco_annotations)\n",
    "    cats = coco.loadCats(coco.getCatIds())\n",
    "    nms = [cat[\"name\"] for cat in cats]\n",
    "    print(\"COCO categories: \\n{}\\n\".format(\" \".join(nms)))\n",
    "\n",
    "    catIds = coco.getCatIds()\n",
    "    imgIds = coco.getImgIds()\n",
    "    # imgIds = coco.getImgIds(catIds=catIds)\n",
    "    imageInfos = coco.loadImgs(imgIds)\n",
    "\n",
    "    return coco, catIds, imgIds, imageInfos\n",
    "\n",
    "\n",
    "def save_images(src_path, dst_path, imageInfos):\n",
    "    os.makedirs(dst_path, exist_ok=True)\n",
    "\n",
    "    for image in tqdm(imageInfos):\n",
    "        file_name = image[\"file_name\"]\n",
    "        src = f\"{src_path}/{file_name}\"\n",
    "        dst = f\"{dst_path}/{file_name}\"\n",
    "\n",
    "        if not os.path.exists(src):\n",
    "            raise Exception(f\"do not exits: {src}\")\n",
    "        else:\n",
    "            copyfile(src, dst)\n",
    "\n",
    "    \n",
    "def save_annotations(dst_path, coco, catIds, imgIds, imageInfos):\n",
    "    \"\"\"This is where the annotations will be saved in YOLO format\"\"\"\n",
    "    os.makedirs(dst_path, exist_ok=True)\n",
    "    \n",
    "\n",
    "    for im in tqdm(imageInfos):\n",
    "        dw = 1.0 / im[\"width\"]\n",
    "        dh = 1.0 / im[\"height\"]\n",
    "\n",
    "        annIds = coco.getAnnIds(imgIds=im[\"id\"], catIds=catIds, iscrowd=None)\n",
    "        anns = coco.loadAnns(annIds)\n",
    "\n",
    "        txt_content = []\n",
    "        for ann in anns:\n",
    "            category_id = ann[\"category_id\"] - 1\n",
    "\n",
    "            xmin = ann[\"bbox\"][0]\n",
    "            ymin = ann[\"bbox\"][1]\n",
    "            xmax = ann[\"bbox\"][2] + ann[\"bbox\"][0]\n",
    "            ymax = ann[\"bbox\"][3] + ann[\"bbox\"][1]\n",
    "\n",
    "            x = (xmin + xmax) / 2\n",
    "            y = (ymin + ymax) / 2\n",
    "\n",
    "            w = xmax - xmin\n",
    "            h = ymax - ymin\n",
    "\n",
    "            x = x * dw\n",
    "            w = w * dw\n",
    "            y = y * dh\n",
    "            h = h * dh\n",
    "\n",
    "            txt_content.append(\n",
    "                \" \".join([\n",
    "                    f\"{category_id} \",\n",
    "                    str(truncate(x, 7)),\n",
    "                    str(truncate(y, 7)),\n",
    "                    str(truncate(w, 7)),\n",
    "                    str(truncate(h, 7))\n",
    "                ])\n",
    "            )\n",
    "            \n",
    "        \n",
    "        file_name = im[\"file_name\"].replace(\".jpg\", \".txt\")\n",
    "        with open(f\"{dst_path}/{file_name}\", \"w\") as myfile:\n",
    "            for line in txt_content:\n",
    "                myfile.write(line+\"\\n\")"
   ]
  },
  {
   "cell_type": "code",
   "execution_count": 5,
   "metadata": {
    "collapsed": true
   },
   "outputs": [],
   "source": [
    "def load_split_ids(src_path):\n",
    "    train_ids =  pd.read_csv(f\"{src_path}/train.csv\")[\"UI Number\"].values.tolist()\n",
    "    val_ids =  pd.read_csv(f\"{src_path}/val.csv\")[\"UI Number\"].values.tolist()\n",
    "    test_ids =  pd.read_csv(f\"{src_path}/test.csv\")[\"UI Number\"].values.tolist()\n",
    "    return train_ids, val_ids, test_ids"
   ]
  },
  {
   "cell_type": "code",
   "execution_count": 6,
   "metadata": {},
   "outputs": [],
   "source": [
    "train_ids, val_ids, test_ids = load_split_ids(SPLIT_PATH)"
   ]
  },
  {
   "cell_type": "code",
   "execution_count": 7,
   "metadata": {},
   "outputs": [
    {
     "data": {
      "text/plain": [
       "19678"
      ]
     },
     "execution_count": 7,
     "metadata": {},
     "output_type": "execute_result"
    }
   ],
   "source": [
    "len(train_ids)"
   ]
  },
  {
   "cell_type": "markdown",
   "metadata": {},
   "source": [
    "## run"
   ]
  },
  {
   "cell_type": "code",
   "execution_count": 8,
   "metadata": {
    "collapsed": true
   },
   "outputs": [],
   "source": [
    "def coco2yolo_with_data_split(\n",
    "        dst_path,\n",
    "        coco_annotations, \n",
    "        image_path,\n",
    "        split_path,\n",
    "    ):\n",
    "\n",
    "    coco, catIds, imgIds, imageInfos = get_coco_info(\n",
    "        coco_annotations, image_path\n",
    "    )\n",
    "\n",
    "    train_ids, val_ids, test_ids = load_split_ids(split_path)\n",
    "\n",
    "    split_dict = {\n",
    "        \"train\": set(train_ids), \n",
    "        \"val\": set(val_ids), \n",
    "        \"test\": set(test_ids)\n",
    "    }\n",
    "\n",
    "    instances_per_split = {}\n",
    "    for key_name, split_ids in split_dict.items():\n",
    "        print(f\"creating {key_name} dataset...\")\n",
    "\n",
    "        filtered_image_ids = list(\n",
    "            filter(lambda im_id: im_id in split_ids, imgIds)\n",
    "        )\n",
    "        filtered_image_infos = list(\n",
    "            filter(lambda im: im[\"id\"] in split_ids, imageInfos)\n",
    "        )\n",
    "\n",
    "        save_images(\n",
    "            image_path, \n",
    "            f\"{dst_path}/images/{key_name}/\", \n",
    "            filtered_image_infos\n",
    "        )\n",
    "        save_annotations(\n",
    "            f\"{dst_path}/labels/{key_name}/\", \n",
    "            coco, catIds, filtered_image_ids, filtered_image_infos\n",
    "        )\n",
    "        \n",
    "        instances_per_split[key_name] = filtered_image_ids\n",
    "        \n",
    "    return instances_per_split"
   ]
  },
  {
   "cell_type": "code",
   "execution_count": 9,
   "metadata": {},
   "outputs": [
    {
     "name": "stdout",
     "output_type": "stream",
     "text": [
      "README.md  ricoco.json\tricoco_clickable.json  ricoco_icon_legend.json\r\n"
     ]
    }
   ],
   "source": [
    "!ls ../dataset/"
   ]
  },
  {
   "cell_type": "code",
   "execution_count": 10,
   "metadata": {},
   "outputs": [
    {
     "name": "stdout",
     "output_type": "stream",
     "text": [
      "working on new_dataset/rico2coco_clickable/ ...\n",
      "loading annotations into memory...\n",
      "Done (t=1.33s)\n",
      "creating index...\n",
      "index created!\n",
      "COCO categories: \n",
      "clickable not_clickable\n",
      "\n",
      "creating train dataset...\n"
     ]
    },
    {
     "name": "stderr",
     "output_type": "stream",
     "text": [
      "100%|██████████| 6734/6734 [00:01<00:00, 3829.94it/s]\n",
      "100%|██████████| 6734/6734 [00:00<00:00, 7546.00it/s]\n"
     ]
    },
    {
     "name": "stdout",
     "output_type": "stream",
     "text": [
      "creating val dataset...\n"
     ]
    },
    {
     "name": "stderr",
     "output_type": "stream",
     "text": [
      "100%|██████████| 853/853 [00:00<00:00, 5433.84it/s]\n",
      "100%|██████████| 853/853 [00:00<00:00, 7674.58it/s]\n"
     ]
    },
    {
     "name": "stdout",
     "output_type": "stream",
     "text": [
      "creating test dataset...\n"
     ]
    },
    {
     "name": "stderr",
     "output_type": "stream",
     "text": [
      "100%|██████████| 790/790 [00:00<00:00, 4898.51it/s]\n",
      "100%|██████████| 790/790 [00:00<00:00, 7643.03it/s]\n"
     ]
    },
    {
     "name": "stdout",
     "output_type": "stream",
     "text": [
      "train 0.8038677330786678\n",
      "val 0.1018264295093709\n",
      "test 0.09430583741196132\n",
      "\n",
      "\n",
      "working on new_dataset/ricoco_icon_legend/ ...\n",
      "loading annotations into memory...\n",
      "Done (t=0.12s)\n",
      "creating index...\n",
      "index created!\n",
      "COCO categories: \n",
      "shop expand_less help photo switcher attach_file follow font layers pause group menu flash send add swap folder save expand_more date_range facebook av_rewind gift settings edit skip_next list refresh avatar dialpad globe bluetooth close fullscreen thumbs_up label reply email power undo explore cart videocam search launch arrow_backward favorite filter delete navigation file_download weather network_wifi redo emoji playlist bookmark music call twitter location flight visibility volume notifications av_forward location_crosshair copy info skip_previous arrow_downward dashboard more minus history compare lock national_flag share warning chat home arrow_forward check microphone sliders book build play repeat star description wallpaper arrow_upward filter_list thumbs_down time\n",
      "\n",
      "creating train dataset...\n"
     ]
    },
    {
     "name": "stderr",
     "output_type": "stream",
     "text": [
      "100%|██████████| 6734/6734 [00:01<00:00, 3751.45it/s]\n",
      "100%|██████████| 6734/6734 [00:00<00:00, 17753.45it/s]\n"
     ]
    },
    {
     "name": "stdout",
     "output_type": "stream",
     "text": [
      "creating val dataset...\n"
     ]
    },
    {
     "name": "stderr",
     "output_type": "stream",
     "text": [
      "100%|██████████| 853/853 [00:00<00:00, 5284.13it/s]\n",
      "100%|██████████| 853/853 [00:00<00:00, 18504.54it/s]\n"
     ]
    },
    {
     "name": "stdout",
     "output_type": "stream",
     "text": [
      "creating test dataset...\n"
     ]
    },
    {
     "name": "stderr",
     "output_type": "stream",
     "text": [
      "100%|██████████| 790/790 [00:00<00:00, 4626.88it/s]\n",
      "100%|██████████| 790/790 [00:00<00:00, 18909.33it/s]\n"
     ]
    },
    {
     "name": "stdout",
     "output_type": "stream",
     "text": [
      "train 0.8038677330786678\n",
      "val 0.1018264295093709\n",
      "test 0.09430583741196132\n",
      "\n",
      "\n",
      "working on new_dataset/ricoco/ ...\n",
      "loading annotations into memory...\n",
      "Done (t=0.99s)\n",
      "creating index...\n",
      "index created!\n",
      "COCO categories: \n",
      "Web View List Item Multi-Tab Input Text Button Slider Background Image Advertisement Card Bottom Navigation Modal On/Off Switch Button Bar Number Stepper Text Map View Checkbox Date Picker Image Drawer Radio Button Video Toolbar Pager Indicator\n",
      "\n",
      "creating train dataset...\n"
     ]
    },
    {
     "name": "stderr",
     "output_type": "stream",
     "text": [
      "100%|██████████| 6734/6734 [00:01<00:00, 3910.87it/s]\n",
      "100%|██████████| 6734/6734 [00:00<00:00, 8583.28it/s]\n"
     ]
    },
    {
     "name": "stdout",
     "output_type": "stream",
     "text": [
      "creating val dataset...\n"
     ]
    },
    {
     "name": "stderr",
     "output_type": "stream",
     "text": [
      "100%|██████████| 853/853 [00:00<00:00, 3761.65it/s]\n",
      "100%|██████████| 853/853 [00:00<00:00, 7814.82it/s]\n"
     ]
    },
    {
     "name": "stdout",
     "output_type": "stream",
     "text": [
      "creating test dataset...\n"
     ]
    },
    {
     "name": "stderr",
     "output_type": "stream",
     "text": [
      "100%|██████████| 790/790 [00:00<00:00, 5144.88it/s]\n",
      "100%|██████████| 790/790 [00:00<00:00, 8907.71it/s]"
     ]
    },
    {
     "name": "stdout",
     "output_type": "stream",
     "text": [
      "train 0.8038677330786678\n",
      "val 0.1018264295093709\n",
      "test 0.09430583741196132\n",
      "\n",
      "\n"
     ]
    },
    {
     "name": "stderr",
     "output_type": "stream",
     "text": [
      "\n"
     ]
    }
   ],
   "source": [
    "dst_paths = [\n",
    "    (\"new_dataset/rico2coco_clickable/\", \"../dataset/ricoco_clickable.json\"),\n",
    "    (\"new_dataset/ricoco_icon_legend/\", \"../dataset/ricoco_icon_legend.json\"),\n",
    "    (\"new_dataset/ricoco/\", \"../dataset/ricoco.json\"),\n",
    "]\n",
    "\n",
    "for dst_path, ann_path in dst_paths:\n",
    "    \n",
    "    print(f\"working on {dst_path} ...\")\n",
    "        \n",
    "    instances_per_split = coco2yolo_with_data_split(\n",
    "        dst_path, ann_path, IMAGES_PATH, SPLIT_PATH\n",
    "    )\n",
    "\n",
    "    \n",
    "    total_instances = sum(map(len, instances_per_split.values()))\n",
    "    for key in instances_per_split:\n",
    "        print(key, len(instances_per_split[key])/total_instances)\n",
    "    print(\"\\n\")"
   ]
  },
  {
   "cell_type": "code",
   "execution_count": 11,
   "metadata": {},
   "outputs": [
    {
     "name": "stdout",
     "output_type": "stream",
     "text": [
      "10185.txt  16103.txt  22775.txt  3357.txt   41374.txt  54803.txt  64658.txt\r\n",
      "10188.txt  16104.txt  22777.txt  3361.txt   41379.txt  54818.txt  64662.txt\r\n",
      "10199.txt  16105.txt  23598.txt  3379.txt   41388.txt  55.txt     64666.txt\r\n",
      "10206.txt  16129.txt  23729.txt  3393.txt   41396.txt  55178.txt  64670.txt\r\n",
      "10209.txt  16134.txt  23731.txt  3399.txt   41455.txt  55182.txt  64675.txt\r\n",
      "10210.txt  16172.txt  24012.txt  34051.txt  41459.txt  55187.txt  6468.txt\r\n",
      "10213.txt  16198.txt  24024.txt  34080.txt  41463.txt  55412.txt  64680.txt\r\n",
      "10367.txt  16205.txt  24042.txt  3409.txt   41464.txt  55413.txt  65140.txt\r\n",
      "10369.txt  16331.txt  24043.txt  3414.txt   41466.txt  55414.txt  65364.txt\r\n",
      "10378.txt  16372.txt  24214.txt  3416.txt   41467.txt  55417.txt  65405.txt\r\n",
      "10414.txt  16729.txt  2432.txt   3420.txt   41468.txt  55420.txt  65414.txt\r\n",
      "10419.txt  16736.txt  2433.txt   3423.txt   41469.txt  55430.txt  656.txt\r\n",
      "10426.txt  16740.txt  2436.txt   34620.txt  41472.txt  55437.txt  65759.txt\r\n",
      "10427.txt  16745.txt  24893.txt  34661.txt  41475.txt  55439.txt  65763.txt\r\n",
      "10486.txt  16886.txt  24910.txt  34665.txt  41721.txt  56310.txt  65765.txt\r\n",
      "10488.txt  16893.txt  24917.txt  34669.txt  41730.txt  56321.txt  6609.txt\r\n",
      "10489.txt  16906.txt  24918.txt  34947.txt  41735.txt  56380.txt  6613.txt\r\n",
      "10679.txt  16912.txt  24923.txt  34951.txt  42211.txt  56385.txt  66151.txt\r\n",
      "10683.txt  16913.txt  24925.txt  3578.txt   42521.txt  56387.txt  662.txt\r\n",
      "10722.txt  16914.txt  25850.txt  3580.txt   42787.txt  56401.txt  6625.txt\r\n",
      "11218.txt  16916.txt  25909.txt  3581.txt   42791.txt  56635.txt  66579.txt\r\n",
      "11220.txt  178.txt    2607.txt   3588.txt   42802.txt  56710.txt  66581.txt\r\n",
      "11233.txt  180.txt    26355.txt  3597.txt   42804.txt  57.txt     66597.txt\r\n",
      "11242.txt  181.txt    26720.txt  3602.txt   42822.txt  57480.txt  66613.txt\r\n",
      "11272.txt  18114.txt  26730.txt  3610.txt   42912.txt  58239.txt  66618.txt\r\n",
      "11275.txt  18115.txt  26731.txt  36111.txt  42914.txt  58504.txt  66947.txt\r\n",
      "11278.txt  18120.txt  26737.txt  36113.txt  42915.txt  58667.txt  67537.txt\r\n",
      "11280.txt  18137.txt  26784.txt  36114.txt  42916.txt  58683.txt  68094.txt\r\n",
      "11385.txt  18144.txt  2702.txt   3613.txt   42921.txt  58690.txt  68096.txt\r\n",
      "1141.txt   18163.txt  2706.txt   3614.txt   43529.txt  58721.txt  68549.txt\r\n",
      "1150.txt   18167.txt  2708.txt   3617.txt   43631.txt  58722.txt  68551.txt\r\n",
      "11634.txt  18247.txt  2714.txt   36204.txt  43645.txt  58725.txt  68553.txt\r\n",
      "11638.txt  18248.txt  27352.txt  36559.txt  43803.txt  58729.txt  70487.txt\r\n",
      "11640.txt  18253.txt  2752.txt   36563.txt  43809.txt  58731.txt  70504.txt\r\n",
      "11642.txt  18743.txt  2756.txt   36569.txt  43913.txt  58735.txt  70511.txt\r\n",
      "12113.txt  19157.txt  27593.txt  36575.txt  43935.txt  58740.txt  70512.txt\r\n",
      "12116.txt  19192.txt  27600.txt  36599.txt  43936.txt  58742.txt  70513.txt\r\n",
      "12117.txt  19329.txt  27616.txt  36603.txt  43937.txt  58807.txt  70519.txt\r\n",
      "12119.txt  19335.txt  27625.txt  3688.txt   44087.txt  58812.txt  70520.txt\r\n",
      "12133.txt  19340.txt  27637.txt  3692.txt   4509.txt   58845.txt  70522.txt\r\n",
      "12134.txt  19344.txt  27646.txt  37202.txt  45111.txt  59039.txt  70523.txt\r\n",
      "12141.txt  19537.txt  2765.txt   37879.txt  46085.txt  59042.txt  70529.txt\r\n",
      "12145.txt  19558.txt  2772.txt   3792.txt   46086.txt  59044.txt  70530.txt\r\n",
      "12150.txt  19660.txt  2773.txt   37929.txt  46090.txt  59047.txt  70537.txt\r\n",
      "12160.txt  19666.txt  2775.txt   37930.txt  46094.txt  59051.txt  70538.txt\r\n",
      "12162.txt  19670.txt  27998.txt  37934.txt  46102.txt  59052.txt  70540.txt\r\n",
      "12168.txt  19671.txt  28000.txt  3801.txt   46103.txt  59054.txt  70541.txt\r\n",
      "12170.txt  1968.txt   28001.txt  38023.txt  46596.txt  59133.txt  70543.txt\r\n",
      "12238.txt  19839.txt  28008.txt  38029.txt  46604.txt  59137.txt  70546.txt\r\n",
      "12239.txt  2007.txt   28009.txt  38031.txt  46606.txt  59204.txt  70552.txt\r\n",
      "12248.txt  20095.txt  28042.txt  38047.txt  46607.txt  59206.txt  70558.txt\r\n",
      "12257.txt  20096.txt  28075.txt  38051.txt  46610.txt  59215.txt  70559.txt\r\n",
      "12259.txt  2010.txt   28086.txt  38052.txt  46633.txt  59222.txt  70839.txt\r\n",
      "12264.txt  20105.txt  28107.txt  38054.txt  46634.txt  59227.txt  70840.txt\r\n",
      "12267.txt  20106.txt  28110.txt  38355.txt  46637.txt  59228.txt  70856.txt\r\n",
      "12399.txt  2018.txt   28117.txt  38356.txt  46640.txt  59229.txt  70860.txt\r\n",
      "1272.txt   20263.txt  28125.txt  3837.txt   46641.txt  59233.txt  71135.txt\r\n",
      "12893.txt  20269.txt  28244.txt  3858.txt   46797.txt  59417.txt  71136.txt\r\n",
      "12934.txt  20271.txt  28250.txt  3859.txt   46807.txt  59422.txt  71140.txt\r\n",
      "1294.txt   20278.txt  28252.txt  38768.txt  46870.txt  59423.txt  71143.txt\r\n",
      "1295.txt   20343.txt  28432.txt  38842.txt  46871.txt  59480.txt  71151.txt\r\n",
      "1298.txt   20354.txt  2899.txt   38862.txt  46872.txt  59484.txt  71155.txt\r\n",
      "1308.txt   20355.txt  2904.txt   38901.txt  46873.txt  59489.txt  71177.txt\r\n",
      "13399.txt  20357.txt  2907.txt   38916.txt  46875.txt  59493.txt  71266.txt\r\n",
      "141.txt    20359.txt  2912.txt   38917.txt  46876.txt  59756.txt  71288.txt\r\n",
      "14257.txt  20362.txt  29137.txt  38961.txt  46877.txt  59839.txt  71304.txt\r\n",
      "14258.txt  2040.txt   2917.txt   38985.txt  46881.txt  59840.txt  72177.txt\r\n",
      "14264.txt  20451.txt  2921.txt   38989.txt  46896.txt  59844.txt  72182.txt\r\n",
      "14281.txt  20457.txt  2922.txt   38994.txt  46901.txt  59855.txt  72186.txt\r\n",
      "144.txt    20461.txt  2927.txt   39382.txt  47193.txt  59907.txt  72195.txt\r\n",
      "14497.txt  20472.txt  2928.txt   39391.txt  47212.txt  59920.txt  72207.txt\r\n",
      "14500.txt  20479.txt  2930.txt   39395.txt  47222.txt  59931.txt  7406.txt\r\n",
      "14505.txt  20481.txt  29321.txt  39397.txt  47335.txt  60398.txt  7409.txt\r\n",
      "14520.txt  20492.txt  29325.txt  39686.txt  47356.txt  60399.txt  7410.txt\r\n",
      "14535.txt  20598.txt  29326.txt  39692.txt  4829.txt   60401.txt  7448.txt\r\n",
      "14538.txt  20952.txt  29327.txt  39704.txt  49734.txt  60403.txt  7450.txt\r\n",
      "14556.txt  20995.txt  29330.txt  39705.txt  49744.txt  60406.txt  7453.txt\r\n",
      "14558.txt  21003.txt  29831.txt  39707.txt  49750.txt  60409.txt  7976.txt\r\n",
      "14559.txt  21011.txt  29849.txt  39923.txt  49754.txt  61176.txt  7987.txt\r\n",
      "14577.txt  21281.txt  29870.txt  40066.txt  49759.txt  61177.txt  7990.txt\r\n",
      "14579.txt  21318.txt  30650.txt  40094.txt  49770.txt  61182.txt  7993.txt\r\n",
      "14580.txt  21321.txt  30654.txt  40095.txt  49783.txt  61205.txt  7994.txt\r\n",
      "14582.txt  21328.txt  30670.txt  40097.txt  49790.txt  61212.txt  7998.txt\r\n",
      "14583.txt  21334.txt  30673.txt  40102.txt  49823.txt  61223.txt  7999.txt\r\n",
      "14586.txt  21336.txt  30676.txt  40104.txt  50009.txt  61227.txt  8001.txt\r\n",
      "14595.txt  21337.txt  30681.txt  40108.txt  50018.txt  61234.txt  8003.txt\r\n",
      "14605.txt  21343.txt  30687.txt  40110.txt  50025.txt  61250.txt  8004.txt\r\n",
      "14611.txt  21347.txt  30697.txt  4024.txt   50040.txt  61421.txt  8007.txt\r\n",
      "152.txt    21348.txt  3094.txt   40833.txt  51430.txt  61511.txt  8099.txt\r\n",
      "15873.txt  21413.txt  3095.txt   40841.txt  51480.txt  61512.txt  8112.txt\r\n",
      "15874.txt  21417.txt  3105.txt   40842.txt  51492.txt  61523.txt  8733.txt\r\n",
      "15892.txt  21419.txt  3107.txt   40854.txt  51495.txt  61544.txt  8734.txt\r\n",
      "15898.txt  21423.txt  3119.txt   40855.txt  51513.txt  61550.txt  8736.txt\r\n",
      "15900.txt  21425.txt  3121.txt   40856.txt  51518.txt  61552.txt  8739.txt\r\n",
      "15926.txt  21426.txt  31858.txt  40862.txt  51533.txt  61555.txt  8749.txt\r\n",
      "15930.txt  21428.txt  31865.txt  40941.txt  51541.txt  6159.txt   8858.txt\r\n",
      "15945.txt  21429.txt  3218.txt   40951.txt  51546.txt  6182.txt   8859.txt\r\n",
      "15946.txt  21457.txt  32304.txt  41004.txt  51555.txt  62357.txt  9125.txt\r\n",
      "15948.txt  22180.txt  32307.txt  41013.txt  51582.txt  62360.txt  9146.txt\r\n",
      "16041.txt  22208.txt  32308.txt  41032.txt  51587.txt  62366.txt  9148.txt\r\n",
      "16052.txt  22210.txt  32309.txt  41050.txt  52020.txt  63068.txt  9149.txt\r\n",
      "16053.txt  22214.txt  32310.txt  41054.txt  52021.txt  63248.txt  9762.txt\r\n",
      "16054.txt  2236.txt   32311.txt  41090.txt  52165.txt  63359.txt  9902.txt\r\n",
      "16067.txt  2237.txt   32312.txt  41105.txt  52173.txt  63454.txt  9903.txt\r\n",
      "16075.txt  2243.txt   32313.txt  41107.txt  52968.txt  64342.txt  9904.txt\r\n",
      "16078.txt  2247.txt   32316.txt  41131.txt  53698.txt  64343.txt  9908.txt\r\n",
      "16079.txt  22543.txt  32317.txt  41340.txt  53716.txt  64344.txt  9909.txt\r\n",
      "16084.txt  2255.txt   32319.txt  41341.txt  53730.txt  64360.txt  9911.txt\r\n",
      "16085.txt  22551.txt  32658.txt  41353.txt  53740.txt  645.txt    9913.txt\r\n",
      "16087.txt  2256.txt   32660.txt  41360.txt  53757.txt  6454.txt   9914.txt\r\n",
      "16089.txt  2257.txt   3333.txt   41363.txt  53759.txt  6457.txt   9915.txt\r\n",
      "16094.txt  22762.txt  3341.txt   41368.txt  53761.txt  6458.txt   9916.txt\r\n",
      "16102.txt  22764.txt  3353.txt   41369.txt  53762.txt  6461.txt\r\n"
     ]
    }
   ],
   "source": [
    "ls new_dataset/ricoco/labels/test/"
   ]
  },
  {
   "cell_type": "code",
   "execution_count": 12,
   "metadata": {},
   "outputs": [
    {
     "name": "stdout",
     "output_type": "stream",
     "text": [
      "14  0.3277777 0.0708984 0.3638888 0.0363281\r\n",
      "20  0.5 0.1708984 1.0 0.0683593\r\n",
      "20  0.5 0.2666015 1.0 0.0683593\r\n"
     ]
    }
   ],
   "source": [
    "cat new_dataset/ricoco/labels/test/16129.txt"
   ]
  },
  {
   "cell_type": "code",
   "execution_count": null,
   "metadata": {
    "collapsed": true
   },
   "outputs": [],
   "source": []
  }
 ],
 "metadata": {
  "kernelspec": {
   "display_name": "Python 3",
   "language": "python",
   "name": "python3"
  },
  "language_info": {
   "codemirror_mode": {
    "name": "ipython",
    "version": 3
   },
   "file_extension": ".py",
   "mimetype": "text/x-python",
   "name": "python",
   "nbconvert_exporter": "python",
   "pygments_lexer": "ipython3",
   "version": "3.6.3"
  }
 },
 "nbformat": 4,
 "nbformat_minor": 2
}
